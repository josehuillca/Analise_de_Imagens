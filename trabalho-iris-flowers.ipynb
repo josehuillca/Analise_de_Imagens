{
 "cells": [
  {
   "cell_type": "markdown",
   "metadata": {},
   "source": [
    "### Jose Luis Huillca Mango - Aprendizado de Maquina - UFF"
   ]
  },
  {
   "cell_type": "markdown",
   "metadata": {
    "collapsed": true
   },
   "source": [
    "## Practical Work: Recognizing Iris flowers ##"
   ]
  },
  {
   "cell_type": "markdown",
   "metadata": {},
   "source": [
    "## Introduction\n",
    "\n",
    "This first homework has to do with the classical problem of recognizing different species of Iris flowers relying on the [Iris flower dataset](https://en.wikipedia.org/wiki/Iris_flower_data_set).\n",
    "\n",
    "The Iris flower data set or Fisher's Iris data set is a multivariate data set introduced by [Ronald Fisher](https://en.wikipedia.org/wiki/Ronald_Fisher) in his 1936 paper *\"The use of multiple measurements in taxonomic problems as an example of linear discriminant analysis\"*.\n",
    "\n",
    "* The data set consists of 50 samples from each of three species of Iris (*Iris setosa*, *Iris virginica* and *Iris versicolor*). \n",
    "* Four features were measured from each sample, the length and the width of the sepals and petals, in centimeters. \n",
    "* Based on the combination of these four features, Fisher developed a linear discriminant model to distinguish the species from each other.\n",
    "\n",
    "Similarly, we will use this homework to get you familiarized with `numpy` and `scikit-learn`."
   ]
  },
  {
   "cell_type": "markdown",
   "metadata": {},
   "source": [
    "<div class=\"container-fluid\">\n",
    "  <div class=\"row\">\n",
    "      <div class=\"col-md-2\" align='center'>\n",
    "      </div>\n",
    "      <div class='col-md-8' align='center'>\n",
    "           <img src='https://s3.amazonaws.com/assets.datacamp.com/blog_assets/iris-machinelearning.png' />\n",
    "      </div>\n",
    "      <div class=\"col-md-2\" align='center'></div>\n",
    "  </div>\n",
    "</div>"
   ]
  },
  {
   "cell_type": "markdown",
   "metadata": {},
   "source": [
    "## Problem description\n",
    "\n",
    "**If we want to design an algorithm to recognize iris species, what might the data be?**\n",
    "\n",
    "* We need a 2D array of size `[n_samples x n_features]`.\n",
    "\n",
    "    - What would the `n_samples` refer to?\n",
    "    - What might the `n_features` refer to?\n",
    "\n",
    "Remember that there must be a **fixed** number of features for each sample, and feature\n",
    "number ``i`` must be a similar kind of quantity for each sample."
   ]
  },
  {
   "cell_type": "markdown",
   "metadata": {},
   "source": [
    "## Loading the Iris Data with `scikit-learn`\n",
    "\n",
    "`scikit-learn` has a very straightforward set of data on these iris species.  The data consist of\n",
    "the following:\n",
    "\n",
    "* Features in the Iris dataset:\n",
    "  1. sepal length in cm\n",
    "  2. sepal width in cm\n",
    "  3. petal length in cm\n",
    "  4. petal width in cm\n",
    "\n",
    "* Target classes to predict:\n",
    "  1. Iris setosa\n",
    "  2. Iris versicolour\n",
    "  3. Iris virginica"
   ]
  },
  {
   "cell_type": "markdown",
   "metadata": {},
   "source": [
    "``scikit-learn`` embeds a copy of the iris CSV file along with a helper function to load it into numpy arrays:"
   ]
  },
  {
   "cell_type": "code",
   "execution_count": 10,
   "metadata": {},
   "outputs": [],
   "source": [
    "from sklearn.datasets import load_iris\n",
    "iris_data = load_iris()"
   ]
  },
  {
   "cell_type": "markdown",
   "metadata": {},
   "source": [
    "The resulting `iris_data` dataset is a `Bunch` object, that can be viewed as supercharged `dict`. For example, you can see what's available using the `keys()` method:"
   ]
  },
  {
   "cell_type": "code",
   "execution_count": 11,
   "metadata": {},
   "outputs": [
    {
     "name": "stdout",
     "output_type": "stream",
     "text": [
      "dict_keys(['data', 'target', 'target_names', 'DESCR', 'feature_names'])\n"
     ]
    }
   ],
   "source": [
    "print(iris_data.keys())"
   ]
  },
  {
   "cell_type": "markdown",
   "metadata": {},
   "source": [
    "Let's visualize the relation between the attributes. If you are running the notebook locally you will be able to"
   ]
  },
  {
   "cell_type": "code",
   "execution_count": 12,
   "metadata": {},
   "outputs": [],
   "source": [
    "# ploting support stuff\n",
    "import matplotlib.pyplot as plt\n",
    "import matplotlib.cm as cm\n",
    "%matplotlib inline\n",
    "%config InlineBackend.figure_format = 'retina'"
   ]
  },
  {
   "cell_type": "code",
   "execution_count": 13,
   "metadata": {},
   "outputs": [],
   "source": [
    "from ipywidgets import interact, interactive, fixed\n",
    "import ipywidgets as widgets"
   ]
  },
  {
   "cell_type": "code",
   "execution_count": 14,
   "metadata": {},
   "outputs": [
    {
     "data": {
      "application/vnd.jupyter.widget-view+json": {
       "model_id": "dc6c8fa5b1a647759f2c7490d4e61090",
       "version_major": 2,
       "version_minor": 0
      },
      "text/plain": [
       "interactive(children=(IntSlider(value=0, description='x_feature_index', max=3), IntSlider(value=1, description…"
      ]
     },
     "metadata": {},
     "output_type": "display_data"
    }
   ],
   "source": [
    "@interact(x_feature_index=(0, 3), y_feature_index=(0, 3))\n",
    "def plot_iris_scatter(x_feature_index=0, y_feature_index=1):\n",
    "    # this formatter will label the colorbar with the correct target names\n",
    "    formatter = plt.FuncFormatter(\n",
    "        lambda i, *args: iris_data.target_names[int(i)])\n",
    "\n",
    "    plt.scatter(\n",
    "        iris_data.data[:, x_feature_index],\n",
    "        iris_data.data[:, y_feature_index],\n",
    "        c=iris_data.target,\n",
    "        cmap=cm.viridis)\n",
    "    plt.colorbar(ticks=[0, 1, 2], format=formatter)\n",
    "    plt.xlabel(iris_data.feature_names[x_feature_index])\n",
    "    plt.ylabel(iris_data.feature_names[y_feature_index])"
   ]
  },
  {
   "cell_type": "markdown",
   "metadata": {},
   "source": [
    "## Classifying with Multi Layer Perceptron"
   ]
  },
  {
   "cell_type": "markdown",
   "metadata": {},
   "source": [
    "We classify iris data set with `Multilayer Perceptron`. We use the next estructure showed in the next figure. "
   ]
  },
  {
   "cell_type": "markdown",
   "metadata": {},
   "source": [
    "<div class=\"container-fluid\">\n",
    "  <div class=\"row\">\n",
    "      <div class=\"col-md-2\" align='center'>\n",
    "      </div>\n",
    "      <div class='col-md-8' align='center'>\n",
    "           <img src='MLP_diagram.png' />\n",
    "      </div>\n",
    "      <div class=\"col-md-2\" align='center'></div>\n",
    "  </div>\n",
    "</div>"
   ]
  },
  {
   "cell_type": "markdown",
   "metadata": {},
   "source": [
    "We use numpy library to manage arrays operations, in example: sum, array multiplications, add a element, ..."
   ]
  },
  {
   "cell_type": "code",
   "execution_count": 15,
   "metadata": {},
   "outputs": [],
   "source": [
    "import numpy as np"
   ]
  },
  {
   "cell_type": "markdown",
   "metadata": {},
   "source": [
    "We create a **`class Perceptron`**, where we store the weights(a list of weights), as the picture shows. The weights are filled with random weights, in a range of `-0.5 to 0.5`."
   ]
  },
  {
   "cell_type": "code",
   "execution_count": 16,
   "metadata": {},
   "outputs": [],
   "source": [
    "class JoseHuillcaPerceptron():\n",
    "    w = None      # Weight's lists\n",
    "\n",
    "    def __init__(self):\n",
    "        self.w = []\n",
    "\n",
    "    def fill_weights(self, size):\n",
    "        random = np.random.uniform(-0.5, 0.5, size)\n",
    "        self.w = random"
   ]
  },
  {
   "cell_type": "markdown",
   "metadata": {},
   "source": [
    "We create a **`class Layer`** too. In this class we import the class Perceptron, and their parameters are:\n",
    "* **type_layer:** it can be hidden layer or output layer, input layer is not necesary.\n",
    "* **LP:** is a `class Perceptron` list, where store the weights, we can see as matrix too.\n",
    "* **u_l:** is a list of the result of the propagation rule ( $u_i = \\sum_{j=1}^{N} x_i*w_{ij} + \\theta$ ), where $\\theta$ is a bias, and $x_i$ is the data of input layer or `f_u_l`in hidden and output layer, $w_{ij}$ is a weight.\n",
    "* **f_u_l:** is the result of apply a `activation function`, we only use `logistic` function, but we can add more functions."
   ]
  },
  {
   "cell_type": "code",
   "execution_count": 17,
   "metadata": {},
   "outputs": [],
   "source": [
    "class JoseHuillcaLayer():\n",
    "    type_layer = \"\"\n",
    "    LP = None               # Perceptron List\n",
    "    u_l = None              # Propagation rule result(sumatoria(x_i*w_i_j)), is a list,\n",
    "    f_u_l = None            # result of activation function of u_l, is a list\n",
    "\n",
    "    def __init__(self, type_layer):\n",
    "        self.type_layer = type_layer\n",
    "\n",
    "    def create_perceptron_list(self, size):\n",
    "        self.LP = []\n",
    "        for i in range(size):\n",
    "            p = JoseHuillcaPerceptron()\n",
    "            self.LP.append(p)\n",
    "\n",
    "    # print all weights of each Perceptron\n",
    "    def print_weights(self):\n",
    "        for i in range(len(self.LP)):\n",
    "            print(i, self.type_layer, self.LP[i].w)\n",
    "\n",
    "    # return all weights as matrix\n",
    "    def get_all_weights_as_matrix(self):\n",
    "        m_w = []\n",
    "        for i in range(len(self.LP)):\n",
    "            m_w.append(self.LP[i].w)\n",
    "        return m_w\n",
    "\n",
    "    # set all weights, where l is a vector\n",
    "    def update_all_weights(self, l):\n",
    "        for i in range(len(self.LP)):\n",
    "            j = 0\n",
    "            for n_x_e in l[i]:\n",
    "                self.LP[i].w[j] = self.LP[i].w[j] + n_x_e\n",
    "                j = j + 1\n"
   ]
  },
  {
   "cell_type": "markdown",
   "metadata": {},
   "source": [
    "We create a **`class MLP`**, where we train the data. In this class we import the class Layer, and their parameters are:\n",
    "* **hidden:** is a list of hidden layers, we have one function to create it. This function first take the size of the input (`len_input`) to create the first hidden layer with their weights(adding one to bias) for each Perceptron, later, create others hidden layers with the size of the layer before it. `hidden_sizes` is a list of sizes of hidden layers, each element represent the size of each hidden layer and the size of hidden_sizes is the number of hidden layers.\n",
    "* **output:** is a output layer, we have one function to create it. This function take the size of the last hidden layer to create their weights(adding one to bias) and `len_output` to create a list of Perceptrons.\n",
    "* **activation:** is a string, that represent a activation function, we use `logistic activation` function for default.\n",
    "* **tol:** is a tolerance of error, if the squared error is smaller than `tol=1e-3` we don't need more training.\n",
    "* **n:** is a learning rate, if `l_r=0.5` is too large, gradient descent can overshoot the minimum. It may fail to converge or even diverge. But if it is too small gradient descent can be small.\n",
    "* **iter:** is a limit of number of iterations or epochs of training"
   ]
  },
  {
   "cell_type": "code",
   "execution_count": 63,
   "metadata": {},
   "outputs": [],
   "source": [
    "class JoseHuillcaMLP():\n",
    "    hidden = None       # a list of hidden Layers\n",
    "    output = None       # output Layer\n",
    "    activation = \"\"     # type activation function, used in derivative function too\n",
    "    tol = None          # tolerance of error, threshold\n",
    "    n = None            # learning rate\n",
    "    iter = None         # number of iterations or epochs of training\n",
    "\n",
    "    # hidden_sizes is a list of sizes of hidden layers\n",
    "    # where l_r is a learning rate\n",
    "    # where iter is a number of iterations or epochs of training\n",
    "    def __init__(self, len_input=2, hidden_sizes=[2], len_output=1, iter=200, activation='logistic', l_r=0.5, tol=1e-3):\n",
    "        self.create_hidden_layer(hidden_sizes, len_input)\n",
    "        self.create_output_layer(len_output)\n",
    "        self.activation = activation\n",
    "        self.n = l_r\n",
    "        self.tol = tol\n",
    "        self.iter = iter\n",
    "\n",
    "    def create_hidden_layer(self, sizes, len_input):\n",
    "        bias = 1\n",
    "        tam = range(len(sizes))\n",
    "        self.hidden = []\n",
    "        # init hidden layers\n",
    "        for i in tam:\n",
    "            L = JoseHuillcaLayer(type_layer=\"hidden\")\n",
    "            self.hidden.append(L)\n",
    "        # create Perceptrons for each layer\n",
    "        for i in tam:\n",
    "            self.hidden[i].create_perceptron_list(sizes[i])\n",
    "        # fill weights for each perceptron of the layer\n",
    "        for i in range(sizes[0]):\n",
    "            # we use len_input\n",
    "            self.hidden[0].LP[i].fill_weights(len_input + bias)\n",
    "        for i in range(1, len(sizes)): # other hidden Layers\n",
    "            for j in range(sizes[i]):\n",
    "                # if there are more hidden layers\n",
    "                self.hidden[i].LP[j].fill_weights(sizes[i-1] + bias)\n",
    "\n",
    "    def create_output_layer(self, len_output):\n",
    "        bias = 1\n",
    "        len_last_hidden_layer = len(self.hidden[len(self.hidden)-1].LP)\n",
    "        # init output layer\n",
    "        L2 = JoseHuillcaLayer(type_layer=\"output\")\n",
    "        self.output = L2\n",
    "        # create Perceptrons\n",
    "        self.output.create_perceptron_list(len_output)\n",
    "        # fill weights for each perceptron of the layer\n",
    "        for i in range(len_output):\n",
    "            self.output.LP[i].fill_weights(len_last_hidden_layer + bias)\n",
    "\n",
    "    def print_layer_weights(self):\n",
    "        print(\"Hidden Layer Weights:\")\n",
    "        for i in range(len(self.hidden)):\n",
    "            self.hidden[i].print_weights()\n",
    "        print(\"Output Layer Weights:\")\n",
    "        self.output.print_weights()\n",
    "\n",
    "    def f_activation(self, u):\n",
    "        if self.activation == 'logistic':\n",
    "            return 1.0/(1+np.exp(-u))\n",
    "        else:\n",
    "            print(\"ERROR: activation function not found\")\n",
    "            return 0\n",
    "\n",
    "    # it's more easy get derivative of 'f_u' that only 'u'\n",
    "    # WARNING: only work with logistic\n",
    "    # if you want use other activation function, you change a return exp(u)/(1+exp(-u)^2\n",
    "    def df_activation(self, f_u):\n",
    "        if self.activation == 'logistic':\n",
    "            return f_u*(1-f_u)\n",
    "        else:\n",
    "            print(\"ERROR: derivative activation function not found\")\n",
    "            return 0\n",
    "\n",
    "    # In this function we do propagation rule\n",
    "    # where x is a array [..]\n",
    "    def forward(self, x):\n",
    "        bias = 1\n",
    "        # Hidden Layer\n",
    "        #print(self.hidden[0].get_all_weights_as_matrix(), np.append(x, [bias]))\n",
    "        h_l = np.dot(self.hidden[0].get_all_weights_as_matrix(), np.append(x, [bias]))\n",
    "        f_h_l = np.array([self.f_activation(u) for u in h_l])\n",
    "\n",
    "        # Result save Hidden\n",
    "        self.hidden[0].u_l = h_l\n",
    "        self.hidden[0].f_u_l = f_h_l\n",
    "\n",
    "        # ***** more hidden layers ********\n",
    "        for i in range(1, len(self.hidden)):\n",
    "            h_l_i = np.dot(self.hidden[i].get_all_weights_as_matrix(), np.append(self.hidden[i-1].f_u_l, [bias]))\n",
    "            f_h_l_i = np.array([self.f_activation(u) for u in h_l_i])\n",
    "            # Result save\n",
    "            self.hidden[i].u_l = h_l_i\n",
    "            self.hidden[i].f_u_l = f_h_l_i\n",
    "\n",
    "        # Output Layer\n",
    "        pos = len(self.hidden) - 1\n",
    "        o_l = np.dot(self.output.get_all_weights_as_matrix(), np.append(self.hidden[pos].f_u_l, [bias]))\n",
    "        f_o_l = np.array([self.f_activation(u) for u in o_l])\n",
    "\n",
    "        # Result save Output\n",
    "        self.output.u_l = o_l\n",
    "        self.output.f_u_l = f_o_l\n",
    "\n",
    "    # Print values u_l, f_u_l, of Layers\n",
    "    def print_layer_values(self):\n",
    "        print(\"Hidden Layers values:\")\n",
    "        for i in range(len(self.hidden)):\n",
    "            print(i, 'u_l', self.hidden[i].u_l)\n",
    "            print(i, 'f_u_l', self.hidden[i].f_u_l)\n",
    "        print(\"Output Layer values:\")\n",
    "        print(0, 'u_l', self.output.u_l)\n",
    "        print(0, 'f_u_l', self.output.f_u_l)\n",
    "\n",
    "    # BACKPROPAGATION\n",
    "    # where x is a vector of input data, and y is a desired output in oneHotEncoder format\n",
    "    def fit(self, x, y):\n",
    "        squared_error = 2*self.tol\n",
    "        counter = 0\n",
    "        while squared_error>self.tol:\n",
    "            squared_error = 0\n",
    "            for i in range(len(x)):\n",
    "                x_i = x[i]\n",
    "                y_i = y[i]\n",
    "                self.forward(x_i)\n",
    "                op = self.output.f_u_l\n",
    "\n",
    "                error = np.array(y_i) - np.array(op)\n",
    "                squared_error = squared_error + np.sum([np.power(x, 2) for x in error])\n",
    "                # Training output\n",
    "                # e_o = (y_i-op)*output.f_u_l'\n",
    "                # w(t+1) = w(t)-n*e_o\n",
    "\n",
    "                df_op = [self.df_activation(x) for x in self.output.f_u_l]\n",
    "                e_op = np.array(error)*np.array(df_op)\n",
    "                # Training hidden\n",
    "                # e_h = hidden.u_l'*sumatoria(e_op*w_o_kj)\n",
    "                # w(t+1) = w(t) - n*e_h*x_i\n",
    "\n",
    "                # HERE ..... ERROR_HIDDEN\n",
    "                # ..............................................\n",
    "                # there are not error to bias, because we don't need take her weight\n",
    "                pos_last_h_l = len(self.hidden) - 1\n",
    "                w_o_kj = self.output.get_all_weights_as_matrix()\n",
    "                len_h_w = len(self.hidden[pos_last_h_l].LP)  # will be len(self.hidden[0].LP[0].w\n",
    "                w_o_kj = [w_o_kj[i][:len_h_w] for i in range(len(w_o_kj))]\n",
    "                # We computed error hidden\n",
    "                df_h = [self.df_activation(x) for x in self.hidden[pos_last_h_l].f_u_l]\n",
    "                sum_op_wo = np.dot(e_op, w_o_kj)\n",
    "                e_h = [np.array(df_h) * np.array(sum_op_wo)]\n",
    "                #\n",
    "                # See more hidden Layers\n",
    "                # ..........................................\n",
    "                list_e_h = [e_h[0]] # error list of hidden layer\n",
    "                # compute error since penultima layer in hidden to 0\n",
    "                g = 0\n",
    "                for t in range(pos_last_h_l-1, -1, -1):\n",
    "                    w_h_kj = self.hidden[t+1].get_all_weights_as_matrix()\n",
    "                    len_h_w = len(self.hidden[t].LP)  # will be len(self.hidden[0].LP[0].w\n",
    "                    w_h_kj = [w_h_kj[k][:len_h_w] for k in range(len(w_h_kj))]\n",
    "                    # We computed error hidden\n",
    "                    df_h_ = [self.df_activation(x) for x in self.hidden[t].f_u_l]\n",
    "                    sum_eh_wh = np.dot([list_e_h[g]], w_h_kj)\n",
    "                    e_h_ = np.array(df_h_) * np.array(sum_eh_wh)\n",
    "                    list_e_h.append(e_h_[0])\n",
    "                    g = g + 1\n",
    "\n",
    "                # TRAINING\n",
    "                # updating weights\n",
    "                f_u_l_h = np.append(self.hidden[pos_last_h_l].f_u_l, [1])  # + [bias]\n",
    "                # We use transposed(T), because it maybe there are more output errors (e_op)\n",
    "                eo_fulh = np.dot(np.array([e_op]).T, [f_u_l_h])\n",
    "                # n*[eo_fulh], only work if [eo_fulh] is a numpy array, else not\n",
    "                self.output.update_all_weights(self.n*np.array(eo_fulh))\n",
    "\n",
    "                # ... more hidden layers\n",
    "                # update weights since last layer in hidden to 1\n",
    "                g = 0\n",
    "                for p in range(pos_last_h_l, 0, -1):\n",
    "                    h_p_b = np.append(self.hidden[p].f_u_l, [1])  # + [bias]\n",
    "                    eh_p = np.array([list_e_h[g]]).T\n",
    "                    eh_hpb = np.dot(eh_p, [h_p_b])\n",
    "                    self.hidden[p].update_all_weights(self.n * np.array(eh_hpb))\n",
    "                    g = g + 1\n",
    "\n",
    "                x_i_b = np.append(x_i, [1])  # + [bias]\n",
    "                eh_t = np.array([list_e_h[pos_last_h_l]]).T  # Transposed matrix n*1\n",
    "                eh_xib = np.dot(eh_t, [x_i_b])\n",
    "                # n*eh_xib, only work if eh_xib is a numpy array, else not\n",
    "                self.hidden[0].update_all_weights(self.n*np.array(eh_xib))\n",
    "            squared_error = squared_error/len(x)\n",
    "            if counter%10==0:\n",
    "                print(counter, \"******** Error mean: \", squared_error)\n",
    "            counter = counter + 1\n",
    "            if counter >= self.iter:\n",
    "                return\n",
    "\n",
    "    # found position max of the output.f_u_l, and compare with 'y'\n",
    "    # x is a [array] and y is a list (not a np.array) where its size is len(x)\n",
    "    # we store the prediction in an array, to use it in a confusion matrix (graphically)\n",
    "    def prediction(self, x, y):\n",
    "        sum = 0\n",
    "        list_pred = []\n",
    "        for i in range(len(x)):\n",
    "            self.forward(x[i])\n",
    "            # if we have only one perceptron in us output layer\n",
    "            if len(self.output.f_u_l) == 1:\n",
    "                o = round(self.output.f_u_l[0])\n",
    "            else:\n",
    "                # my output.f_u_l is a np.array\n",
    "                # we convert to list, because index work only in list, we get index of max value\n",
    "                o = self.output.f_u_l.tolist().index(max(self.output.f_u_l))\n",
    "            list_pred.append(o)\n",
    "            if o == y[i]:\n",
    "                sum = sum + 1\n",
    "        print(\"Accuracy = {0}%\".format(100 * sum/len(x)))\n",
    "        return list_pred\n",
    "    \n",
    "    def my_prediction(self, x):\n",
    "        self.forward(x)\n",
    "        # if we have only one perceptron in us output layer\n",
    "        if len(self.output.f_u_l) == 1:\n",
    "            o = round(self.output.f_u_l[0])\n",
    "        else:\n",
    "            # my output.f_u_l is a np.array\n",
    "            # we convert to list, because index work only in list, we get index of max value\n",
    "            o = self.output.f_u_l.tolist().index(max(self.output.f_u_l))\n",
    "        return o\n"
   ]
  },
  {
   "cell_type": "markdown",
   "metadata": {},
   "source": [
    "In `forward function`, we use the next equation:\n",
    "* Propagation rule : $u_i = \\sum_{j=1}^{N} x_i*w_{ij} + \\theta$, where $\\theta$ is a bias\n",
    "\n",
    "In `fit function`, we use the next equations:\n",
    "* Compute output layer error : $ e_j = (d_j - y_j)*f^{'}(u_j) $, $d_j$ is a desired value, and $y_j$ is our `f_u_l`.\n",
    "* Compute hidden layer error : $ e_j = f^{'}(u_j)*\\sum_{k=1}^{N} e_k*w_{jk} $, where $e_k$ is the error of output layer, if we are in the last hidden layer.\n",
    "* Updating weights : $ w_{ij} = w_{ij} + n * x_i * e_j $, where $n$ is a learning rate; $x_i$ in our hidden layer is `f_u_l`, and $e_k$ is the error of output layer if we are in the last hidden layer."
   ]
  },
  {
   "cell_type": "markdown",
   "metadata": {},
   "source": [
    "## Running my MLP ##"
   ]
  },
  {
   "cell_type": "markdown",
   "metadata": {},
   "source": [
    "First we need to separate the data to `train` and to `test`. We use **train_test_split** of **sklearn** to divide our data set. We use only the 20% to test."
   ]
  },
  {
   "cell_type": "code",
   "execution_count": 19,
   "metadata": {},
   "outputs": [],
   "source": [
    "from sklearn.model_selection import train_test_split"
   ]
  },
  {
   "cell_type": "code",
   "execution_count": 20,
   "metadata": {},
   "outputs": [],
   "source": [
    "X = iris_data.data  # [:, [2, 3]]  # only with two parameters should work\n",
    "y = iris_data.target\n",
    "# train_test_split:= Split arrays or matrices into random train and test subsets\n",
    "X_train, X_test, Y_train, Y_test = train_test_split(X, y, test_size=0.2, random_state=0)"
   ]
  },
  {
   "cell_type": "markdown",
   "metadata": {},
   "source": [
    "We create our own `OneHotEncode` function, because we need it in `fit` function, the parameter **y** is a list of type onehotencoder."
   ]
  },
  {
   "cell_type": "code",
   "execution_count": 21,
   "metadata": {},
   "outputs": [],
   "source": [
    "# return a list with zeros of size tam, and 1 in the position n\n",
    "def my_one_hot_encoder(tam, n):\n",
    "    l = [0]*tam\n",
    "    l[n] = 1\n",
    "    return l\n",
    "\n",
    "# we plus one in the 'tam' of my_one_hot_encoder because there are 3 labels, and\n",
    "# max(Y_test) is equal to 2, and Y_test[k] have three option result=0,1,2\n",
    "# return a new list with oneHotEncoder\n",
    "def fill_list_to_encoder(labels):\n",
    "    max_label = max(labels)+1\n",
    "    l = []\n",
    "    for i in range(len(labels)):\n",
    "        l.append(my_one_hot_encoder(max_label, labels[i]))\n",
    "    return l"
   ]
  },
  {
   "cell_type": "code",
   "execution_count": 22,
   "metadata": {},
   "outputs": [],
   "source": [
    "y_train_enc = fill_list_to_encoder(Y_train)"
   ]
  },
  {
   "cell_type": "markdown",
   "metadata": {},
   "source": [
    "We create a object with our `class MLP`. The size of input data is 4, we use only one hidden layer with 5 Perceptrons, the output layer is the size 3(flower's types: `versicolor, virginica, setosa`), and a learning rate of 0.1"
   ]
  },
  {
   "cell_type": "code",
   "execution_count": 64,
   "metadata": {},
   "outputs": [],
   "source": [
    "jhMLP = JoseHuillcaMLP(len_input=4, hidden_sizes=[5], iter= 200, len_output=3, l_r=0.1)"
   ]
  },
  {
   "cell_type": "markdown",
   "metadata": {},
   "source": [
    "We training our `Multilayer Perceptron`. We print the error mean in every 10 iterations."
   ]
  },
  {
   "cell_type": "code",
   "execution_count": 65,
   "metadata": {},
   "outputs": [
    {
     "name": "stdout",
     "output_type": "stream",
     "text": [
      "0 ******** Error mean:  0.6750072397211343\n",
      "10 ******** Error mean:  0.3276402620063621\n",
      "20 ******** Error mean:  0.25289965253163355\n",
      "30 ******** Error mean:  0.16965427347279896\n",
      "40 ******** Error mean:  0.12132634861792704\n",
      "50 ******** Error mean:  0.09783037067772438\n",
      "60 ******** Error mean:  0.08577530874363884\n",
      "70 ******** Error mean:  0.07811337189157117\n",
      "80 ******** Error mean:  0.07197535040766202\n",
      "90 ******** Error mean:  0.06657503196401307\n",
      "100 ******** Error mean:  0.061723537727091694\n",
      "110 ******** Error mean:  0.05748403130467674\n",
      "120 ******** Error mean:  0.0539139693428257\n",
      "130 ******** Error mean:  0.051259048227370305\n",
      "140 ******** Error mean:  0.04953201709195829\n",
      "150 ******** Error mean:  0.04837694397161702\n",
      "160 ******** Error mean:  0.047446168914063544\n",
      "170 ******** Error mean:  0.0465555208243853\n",
      "180 ******** Error mean:  0.04564361617823865\n",
      "190 ******** Error mean:  0.04472175743341375\n"
     ]
    }
   ],
   "source": [
    "jhMLP.fit(X_train,y_train_enc)"
   ]
  },
  {
   "cell_type": "markdown",
   "metadata": {},
   "source": [
    "We test with **`my_prediction`** function, the result is the class to which belongs."
   ]
  },
  {
   "cell_type": "code",
   "execution_count": 69,
   "metadata": {},
   "outputs": [
    {
     "name": "stdout",
     "output_type": "stream",
     "text": [
      "versicolor\n"
     ]
    }
   ],
   "source": [
    "print(iris_data.target_names[jhMLP.my_prediction(X_test[12])])"
   ]
  },
  {
   "cell_type": "markdown",
   "metadata": {},
   "source": [
    "Now, we show the accuracy prediction, in this case we use a data test. Where `y` is not a onehotencoder."
   ]
  },
  {
   "cell_type": "code",
   "execution_count": 66,
   "metadata": {},
   "outputs": [
    {
     "name": "stdout",
     "output_type": "stream",
     "text": [
      "Accuracy = 96.66666666666667%\n"
     ]
    }
   ],
   "source": [
    "jhMLP_pred = jhMLP.prediction(X_test, Y_test)"
   ]
  },
  {
   "cell_type": "markdown",
   "metadata": {},
   "source": [
    "## Classifying with `K-NN`(K-Nearest Neighbors)"
   ]
  },
  {
   "cell_type": "markdown",
   "metadata": {},
   "source": [
    "We classify the `iris data set` with the clasification algorithm **K-NN**.\n",
    "\n",
    "The **kNN algorithm** is belongs to the family of instance-based, competitive learning and lazy learning algorithms.\n",
    "\n",
    "Instance-based algorithms are those algorithms that model the problem using data instances (or rows) in order to make predictive decisions. The kNN algorithm is an extreme form of instance-based methods because all training observations are retained as part of the model."
   ]
  },
  {
   "cell_type": "markdown",
   "metadata": {},
   "source": [
    "<div class=\"container-fluid\">\n",
    "  <div class=\"row\">\n",
    "      <div class=\"col-md-2\" align='center'>\n",
    "      </div>\n",
    "      <div class='col-md-8' align='center'>\n",
    "           <img src='knn.png' />\n",
    "      </div>\n",
    "      <div class=\"col-md-2\" align='center'></div>\n",
    "  </div>\n",
    "</div>"
   ]
  },
  {
   "cell_type": "markdown",
   "metadata": {},
   "source": [
    "We create a class **`KNN`**, where we train the data. In this class the algorithm will be developed, and their parameters are:\n",
    "* **K:** is the most similar neighbors from the training set for a given test instance.\n",
    "* **predictions:** is a list where we stored the results, it is necessary to get accuracy."
   ]
  },
  {
   "cell_type": "markdown",
   "metadata": {},
   "source": [
    "We import **operator** to use the **sort** algorithm."
   ]
  },
  {
   "cell_type": "code",
   "execution_count": 26,
   "metadata": {},
   "outputs": [],
   "source": [
    "import operator"
   ]
  },
  {
   "cell_type": "code",
   "execution_count": 114,
   "metadata": {},
   "outputs": [],
   "source": [
    "class JoseHuillcaKNN:\n",
    "    k = 0\n",
    "    predictions = None\n",
    "    Test = None\n",
    "    Train = None\n",
    "\n",
    "    # Where Test is a test set used in fit function, and Train too\n",
    "    def __init__(self, k=1):\n",
    "        self.k = k\n",
    "        self.predictions = []\n",
    "        self.Test = []\n",
    "        self.Train = []\n",
    "\n",
    "    # to limit the euclidean distance to a fixed length, ignoring the final dimension\n",
    "    def euclidean_d(self, i1, i2, size):\n",
    "        distance = 0\n",
    "        for i in range(size):\n",
    "            distance = distance + np.power(i1[i] - i2[i], 2)\n",
    "        return np.sqrt(distance)\n",
    "\n",
    "    # This is a straight forward process of calculating the distance for\n",
    "    # all instances and selecting a subset with the smallest distance values.\n",
    "    # returns k most similar neighbors from the training set for a given test instance\n",
    "    def getNeighbors(self, trainSet, testInstance):\n",
    "        distances = []\n",
    "        length = len(testInstance) - 1  # -1 , if we have the labels at end\n",
    "        for x in trainSet:\n",
    "            dist = self.euclidean_d(testInstance, x, length)\n",
    "            distances.append((x, dist))\n",
    "        distances.sort(key=operator.itemgetter(1))\n",
    "        neighbors = []\n",
    "        for x in range(self.k):\n",
    "            neighbors.append(distances[x][0])\n",
    "        return neighbors\n",
    "\n",
    "    def fit(self, X, Y):\n",
    "        # We divide the data\n",
    "        X_train, X_test, Y_train, Y_test = train_test_split(X, Y, test_size=0.2, random_state=0)\n",
    "        self.Test = [np.append(X_test[i],[Y_test[i]]) for i in range(len(Y_test))]\n",
    "        self.Train = [np.append(X_train[i], [Y_train[i]]) for i in range(len(Y_train))]\n",
    "        \n",
    "        self.predictions = []\n",
    "        for x in range(len(self.Test)):\n",
    "            neighbors = self.getNeighbors(self.Train, self.Test[x])\n",
    "            result = self.prediction(neighbors)\n",
    "            self.predictions.append(result)\n",
    "\n",
    "    # Below provides a function for getting the majority voted response from a number\n",
    "    # of neighbors. It assumes the class is the last attribute for each neighbor.\n",
    "    def prediction(self, neighbors):\n",
    "        classVote = {}\n",
    "        for i in range(len(neighbors)):\n",
    "            response = neighbors[i][-1]  # get the last value of array (-1)\n",
    "            if response in classVote:\n",
    "                classVote[response] += 1\n",
    "            else:\n",
    "                classVote[response] = 1\n",
    "        sortedVotes = sorted(classVote.items(), key=operator.itemgetter(1), reverse=True)\n",
    "        return sortedVotes[0][0]\n",
    "\n",
    "    # Return the prediction Value\n",
    "    def my_prediction(self, x):\n",
    "        neighbors = self.getNeighbors(self.Train, x)\n",
    "        return self.prediction(neighbors)\n",
    "    \n",
    "    # Accuracy of us test set\n",
    "    def getAccuracy(self, testSet):\n",
    "        correct = 0\n",
    "        for x in range(len(testSet)):\n",
    "            if testSet[x][-1] == self.predictions[x]:\n",
    "                correct += 1\n",
    "        print(\"Accuracy = {0}%\".format(100 * correct/len(testSet)))"
   ]
  },
  {
   "cell_type": "markdown",
   "metadata": {},
   "source": [
    "We use a **`euclidean distance`** to the K-NN algorithm, we get the distance when the input is $>=2$, for example, the input of the data is $len(input) = 4$, we get only one result. Is not important the number of parameters of the input."
   ]
  },
  {
   "cell_type": "markdown",
   "metadata": {},
   "source": [
    "In **`getNeighbors`** we use **euclidean distance** to found the **`k`** nearest neighbors, we compare the test instance with all train set, and saves distances and we sorted with one algorith(of `operator`), after, we choose the first **k**."
   ]
  },
  {
   "cell_type": "markdown",
   "metadata": {},
   "source": [
    "In **`prediction`** we use the result of **getNeighbors**, where we get the majority voted from a number of neighbors. The class is the last attribute of each neghbor."
   ]
  },
  {
   "cell_type": "markdown",
   "metadata": {},
   "source": [
    "In **`fit`** we join the **getNeighbors and prediction** functions to store the `prediction` list, that it will be used in the **getAccuracy** function. We use the train set, and test set with its labels how last atributte."
   ]
  },
  {
   "cell_type": "markdown",
   "metadata": {},
   "source": [
    "## Running my K-NN"
   ]
  },
  {
   "cell_type": "markdown",
   "metadata": {},
   "source": [
    "First we need to separate the data to **train** and to **test**. The last atributte is the label."
   ]
  },
  {
   "cell_type": "code",
   "execution_count": 190,
   "metadata": {},
   "outputs": [],
   "source": [
    "X_knn = iris_data.data  # [:, [2, 3]]  # only with two parameters should work\n",
    "y_knn = iris_data.target"
   ]
  },
  {
   "cell_type": "markdown",
   "metadata": {},
   "source": [
    "We call our class **`JoseHuillcaKNN`**, with **k** equal to 3."
   ]
  },
  {
   "cell_type": "code",
   "execution_count": 191,
   "metadata": {},
   "outputs": [],
   "source": [
    "jhKNN = JoseHuillcaKNN(k=3)"
   ]
  },
  {
   "cell_type": "markdown",
   "metadata": {},
   "source": [
    "We execute our **KNN** algorithm."
   ]
  },
  {
   "cell_type": "code",
   "execution_count": 192,
   "metadata": {},
   "outputs": [],
   "source": [
    "jhKNN.fit(X_knn, y_knn)"
   ]
  },
  {
   "cell_type": "markdown",
   "metadata": {},
   "source": [
    "We test with **my_prediction** function, the result is the class to which belongs."
   ]
  },
  {
   "cell_type": "code",
   "execution_count": 193,
   "metadata": {},
   "outputs": [
    {
     "name": "stdout",
     "output_type": "stream",
     "text": [
      "versicolor\n"
     ]
    }
   ],
   "source": [
    "print(iris_data.target_names[int(jhKNN.my_prediction(jhKNN.Test[12]))])"
   ]
  },
  {
   "cell_type": "markdown",
   "metadata": {},
   "source": [
    "We show the accuracy."
   ]
  },
  {
   "cell_type": "code",
   "execution_count": 194,
   "metadata": {},
   "outputs": [
    {
     "name": "stdout",
     "output_type": "stream",
     "text": [
      "Accuracy = 96.66666666666667%\n"
     ]
    }
   ],
   "source": [
    "jhKNN.getAccuracy(jhKNN.Test)"
   ]
  },
  {
   "cell_type": "markdown",
   "metadata": {},
   "source": [
    "## Testing with another method of `Machine Learning`"
   ]
  },
  {
   "cell_type": "markdown",
   "metadata": {},
   "source": [
    "We use LSVC(`Linear Super Vector Classification`) to classifier iris data too. We use it of `sklearn.svm`."
   ]
  },
  {
   "cell_type": "code",
   "execution_count": 34,
   "metadata": {},
   "outputs": [],
   "source": [
    "from sklearn.svm import LinearSVC"
   ]
  },
  {
   "cell_type": "markdown",
   "metadata": {},
   "source": [
    "We crete a model of `LinearSVC` to training the iris data. We change the tolerance to $1e-3$, similar to our method MLP, and change number of iterations to $200$."
   ]
  },
  {
   "cell_type": "code",
   "execution_count": 35,
   "metadata": {},
   "outputs": [
    {
     "data": {
      "text/plain": [
       "LinearSVC(C=1.0, class_weight=None, dual=True, fit_intercept=True,\n",
       "     intercept_scaling=1, loss='squared_hinge', max_iter=200,\n",
       "     multi_class='ovr', penalty='l2', random_state=None, tol=0.001,\n",
       "     verbose=0)"
      ]
     },
     "execution_count": 35,
     "metadata": {},
     "output_type": "execute_result"
    }
   ],
   "source": [
    "model = LinearSVC(tol=1e-3, max_iter=200)\n",
    "model.fit(X_train, Y_train.ravel())"
   ]
  },
  {
   "cell_type": "markdown",
   "metadata": {},
   "source": [
    "We calculate the Test Prediction"
   ]
  },
  {
   "cell_type": "code",
   "execution_count": 36,
   "metadata": {},
   "outputs": [
    {
     "name": "stdout",
     "output_type": "stream",
     "text": [
      "Accuracy = 0.9666666666666667%\n"
     ]
    }
   ],
   "source": [
    "y_pred = model.predict(X_test)\n",
    "print(\"Accuracy = {0}%\".format(model.score(X_test,Y_test.ravel())))"
   ]
  },
  {
   "cell_type": "markdown",
   "metadata": {},
   "source": [
    "## Graphing the results"
   ]
  },
  {
   "cell_type": "markdown",
   "metadata": {},
   "source": [
    "We show our result with a `confusion matrix`, we get it from **sklearn**.\n",
    "\n",
    "**`Confusion matrix`** is a tool that allows the visualization of the performance of an algorithm that is used in supervised learning. Each column of the matrix represents the number of predictions of each class, while each row represents the instances in the real class. One of the benefits of confusion matrices is that they make it easy to see if the system is confusing two classes."
   ]
  },
  {
   "cell_type": "code",
   "execution_count": 37,
   "metadata": {},
   "outputs": [],
   "source": [
    "from sklearn.metrics import confusion_matrix"
   ]
  },
  {
   "cell_type": "markdown",
   "metadata": {},
   "source": [
    "We use `seaborn` to show the graph in a better way."
   ]
  },
  {
   "cell_type": "code",
   "execution_count": 38,
   "metadata": {},
   "outputs": [],
   "source": [
    "import seaborn as sn\n",
    "import pandas as pd # data processing,"
   ]
  },
  {
   "cell_type": "markdown",
   "metadata": {},
   "source": [
    "We create a function to show the confusion matrix."
   ]
  },
  {
   "cell_type": "code",
   "execution_count": 39,
   "metadata": {},
   "outputs": [],
   "source": [
    "def show_confusion_matrix(y_test, y_pred, labels):\n",
    "    cm = confusion_matrix(y_test, y_pred)\n",
    "\n",
    "    df_cm = pd.DataFrame(cm, index = [i for i in labels], columns = [i for i in labels])\n",
    "    plt.figure(figsize = (5,5))\n",
    "    sn.heatmap(df_cm, annot=True)"
   ]
  },
  {
   "cell_type": "markdown",
   "metadata": {},
   "source": [
    "First, we plot the confusion matrix of **`Linear Super Vector Classification`**."
   ]
  },
  {
   "cell_type": "code",
   "execution_count": 40,
   "metadata": {},
   "outputs": [
    {
     "data": {
      "image/png": "[encoded data removed]",
      "text/plain": [
       "<Figure size 360x360 with 2 Axes>"
      ]
     },
     "metadata": {
      "image/png": {
       "height": 304,
       "width": 311
      }
     },
     "output_type": "display_data"
    }
   ],
   "source": [
    "show_confusion_matrix(Y_test, y_pred, iris_data.target_names)"
   ]
  },
  {
   "cell_type": "markdown",
   "metadata": {},
   "source": [
    "Now, we plot the confusion matrix of our `MLP` method: **`JoseHuillcaMLP`**."
   ]
  },
  {
   "cell_type": "code",
   "execution_count": 41,
   "metadata": {},
   "outputs": [
    {
     "data": {
      "image/png": "[encoded data removed]",
      "text/plain": [
       "<Figure size 360x360 with 2 Axes>"
      ]
     },
     "metadata": {
      "image/png": {
       "height": 304,
       "width": 311
      }
     },
     "output_type": "display_data"
    }
   ],
   "source": [
    "show_confusion_matrix(Y_test, jhMLP_pred, iris_data.target_names)"
   ]
  },
  {
   "cell_type": "markdown",
   "metadata": {},
   "source": [
    "Now, we plot the confusion matrix of our `KNN` algorith: **`JoseHuillcaKNN`**."
   ]
  },
  {
   "cell_type": "code",
   "execution_count": 195,
   "metadata": {},
   "outputs": [
    {
     "data": {
      "image/png": "[encoded data removed]",
      "text/plain": [
       "<Figure size 360x360 with 2 Axes>"
      ]
     },
     "metadata": {
      "image/png": {
       "height": 306,
       "width": 301
      }
     },
     "output_type": "display_data"
    }
   ],
   "source": [
    "show_confusion_matrix(Y_test, jhKNN.predictions, iris_data.target_names)"
   ]
  },
  {
   "cell_type": "markdown",
   "metadata": {},
   "source": [
    "## Conclusions"
   ]
  },
  {
   "cell_type": "markdown",
   "metadata": {},
   "source": [
    "We obtained the same results in both methods presicion (`JoseHuillcaMLP`and `Linear SuperVectorClasifier`), with the same number of iterations or epochs and same tolerance, we use the same data to train and to do the test; but we only use one hidden layer in our MLP. You can get better results if you increase the number of iterations, but that would take more time, for our method, since it reaches a point where it does not converge and it is necessary to lower the learning rate, that would make learning slower.\n",
    "\n",
    "Also, in `KNN algorithm` we obtained the same result with **k** equal to 3.\n",
    "\n",
    "All results in accuracy were $96,6666666667\\%$"
   ]
  },
  {
   "cell_type": "code",
   "execution_count": 45,
   "metadata": {},
   "outputs": [
    {
     "name": "stdout",
     "output_type": "stream",
     "text": [
      "Accuracy = 96.66666666666667%\n"
     ]
    }
   ],
   "source": [
    "jhMLP_pred = jhMLP.prediction(X_test, Y_test)"
   ]
  },
  {
   "cell_type": "code",
   "execution_count": 106,
   "metadata": {},
   "outputs": [
    {
     "name": "stdout",
     "output_type": "stream",
     "text": [
      "Accuracy = 96.66666666666667%\n"
     ]
    }
   ],
   "source": [
    "jhKNN.getAccuracy(jhKNN.Test)"
   ]
  },
  {
   "cell_type": "markdown",
   "metadata": {},
   "source": [
    "#### System information"
   ]
  },
  {
   "cell_type": "code",
   "execution_count": 196,
   "metadata": {},
   "outputs": [
    {
     "name": "stdout",
     "output_type": "stream",
     "text": [
      "The version_information extension is already loaded. To reload it, use:\n",
      "  %reload_ext version_information\n"
     ]
    },
    {
     "data": {
      "application/json": {
       "Software versions": [
        {
         "module": "Python",
         "version": "3.6.4 64bit [GCC 4.2.1 (Apple Inc. build 5666) (dot 3)]"
        },
        {
         "module": "IPython",
         "version": "6.3.1"
        },
        {
         "module": "OS",
         "version": "Darwin 17.3.0 x86_64 i386 64bit"
        },
        {
         "module": "numpy",
         "version": "1.14.2"
        },
        {
         "module": "matplotlib",
         "version": "2.2.2"
        },
        {
         "module": "sklearn",
         "version": "0.19.1"
        }
       ]
      },
      "text/html": [
       "<table><tr><th>Software</th><th>Version</th></tr><tr><td>Python</td><td>3.6.4 64bit [GCC 4.2.1 (Apple Inc. build 5666) (dot 3)]</td></tr><tr><td>IPython</td><td>6.3.1</td></tr><tr><td>OS</td><td>Darwin 17.3.0 x86_64 i386 64bit</td></tr><tr><td>numpy</td><td>1.14.2</td></tr><tr><td>matplotlib</td><td>2.2.2</td></tr><tr><td>sklearn</td><td>0.19.1</td></tr><tr><td colspan='2'>Fri May 18 01:36:23 2018 -03</td></tr></table>"
      ],
      "text/latex": [
       "\\begin{tabular}{|l|l|}\\hline\n",
       "{\\bf Software} & {\\bf Version} \\\\ \\hline\\hline\n",
       "Python & 3.6.4 64bit [GCC 4.2.1 (Apple Inc. build 5666) (dot 3)] \\\\ \\hline\n",
       "IPython & 6.3.1 \\\\ \\hline\n",
       "OS & Darwin 17.3.0 x86\\_64 i386 64bit \\\\ \\hline\n",
       "numpy & 1.14.2 \\\\ \\hline\n",
       "matplotlib & 2.2.2 \\\\ \\hline\n",
       "sklearn & 0.19.1 \\\\ \\hline\n",
       "\\hline \\multicolumn{2}{|l|}{Fri May 18 01:36:23 2018 -03} \\\\ \\hline\n",
       "\\end{tabular}\n"
      ],
      "text/plain": [
       "Software versions\n",
       "Python 3.6.4 64bit [GCC 4.2.1 (Apple Inc. build 5666) (dot 3)]\n",
       "IPython 6.3.1\n",
       "OS Darwin 17.3.0 x86_64 i386 64bit\n",
       "numpy 1.14.2\n",
       "matplotlib 2.2.2\n",
       "sklearn 0.19.1\n",
       "Fri May 18 01:36:23 2018 -03"
      ]
     },
     "execution_count": 196,
     "metadata": {},
     "output_type": "execute_result"
    }
   ],
   "source": [
    "%load_ext version_information\n",
    "%version_information numpy, matplotlib, sklearn"
   ]
  }
 ],
 "metadata": {
  "kernelspec": {
   "display_name": "Python 3",
   "language": "python",
   "name": "python3"
  },
  "language_info": {
   "codemirror_mode": {
    "name": "ipython",
    "version": 3
   },
   "file_extension": ".py",
   "mimetype": "text/x-python",
   "name": "python",
   "nbconvert_exporter": "python",
   "pygments_lexer": "ipython3",
   "version": "3.6.4"
  }
 },
 "nbformat": 4,
 "nbformat_minor": 1
}
